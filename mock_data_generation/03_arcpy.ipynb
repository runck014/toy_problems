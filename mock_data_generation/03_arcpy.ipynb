{
 "cells": [
  {
   "cell_type": "markdown",
   "metadata": {},
   "source": [
    "# Generating Mock Data for Spatial Data Science\n",
    "\n",
    "*Mock data is useful to design new experiments, test new analytical techniques, evaluating the performance of data systems, and to generally get a handle on a new analytical problem, among other things. In some instances, mock data is the goal - think video games or other virtual worlds that need to have endless horizons. In other cases, mock data is to help us think through a problem or test a system. This later case is our primary use in spatial data science, where mock data helps us think through the data modeling challenge. Specifically, it helps us think about the pros and cons of different approaches to problem formulation, abstraction, and representation of the spatial entities and their attributes.*\n",
    "\n",
    "Last updated: Nov 28, 2023"
   ]
  },
  {
   "cell_type": "code",
   "execution_count": 1,
   "metadata": {},
   "outputs": [],
   "source": [
    "# Imports\n",
    "import arcpy\n",
    "import numpy as np"
   ]
  },
  {
   "cell_type": "markdown",
   "metadata": {
    "heading_collapsed": true
   },
   "source": [
    "## Primitives\n",
    "\n",
    "Primitives in GIScience are the data structures that we hold near and dear to our hearts. Specifically, when we talk about primitives, we are talking about points, lines, and polygons. They are how we represent vector data within our computers, meaning that they are representations and abstractions of the real-world phenomena that we are trying to model and depict.\n",
    "\n",
    "In Python, we can create our own implementations of these primitives by using classes and object-oriented programming (OOP) or we can make use of existing libraries that have already done this work. In this notebook, we will use Esri's ArcPy package to make use of primitives for the purpose of generating mock data. This could also be done through open-source packages like Shapely.\n",
    "\n",
    "As we explore the primitives in ArcPy, you will be able to see that the primitives are actually interconnected and build off of one another. In other words, lines and polygons are really just collections of points that we call arrays. The relationships between primitives can be seen below.\n",
    "\n",
    "```mermaid\n",
    "flowchart LR\n",
    "    pt[Point]\n",
    "    li[Python List of Points]\n",
    "    pg[PointGeometry]\n",
    "    ar[Array]\n",
    "    pll[Polyline]\n",
    "    plg[Polygon]\n",
    "    mp[MultiPoint]\n",
    "\n",
    "    pt --> li & pg\n",
    "    li --> ar\n",
    "    ar --> pll & plg & mp\n",
    "```"
   ]
  },
  {
   "cell_type": "markdown",
   "metadata": {},
   "source": [
    "Furthermore, here is a diagram of what this might look like with actual code.\n",
    "\n",
    "```mermaid\n",
    "flowchart LR\n",
    "    pt[\"arcpy.Point(3,4)\"]\n",
    "    li[\"[arcpy.Point(3,4), arcpy.Point(4,6), arcpy.Point(3,8)]\"]\n",
    "    pg[\"arcpy.PointGeometry(arcpy.Point(3,4))\"]\n",
    "    ar[\"arcpy.Array([arcpy.Point(3,4), arcpy.Point(4,6), arcpy.Point(3,8)])\"]\n",
    "    pll[\"arcpy.Polyline(arcpy.Array([arcpy.Point(3,4), arcpy.Point(4,6), arcpy.Point(3,8)]))\"]\n",
    "    plg[\"arcpy.Polygon(arcpy.Array([arcpy.Point(3,4), arcpy.Point(4,6), arcpy.Point(3,8)]))\"]\n",
    "    mp[\"arcpy.MultiPoint(arcpy.Array([arcpy.Point(3,4), arcpy.Point(4,6), arcpy.Point(3,8)]))\"]\n",
    "\n",
    "    pt --> li & pg\n",
    "    li --> ar\n",
    "    ar --> pll & plg & mp\n",
    "```"
   ]
  },
  {
   "cell_type": "markdown",
   "metadata": {
    "hidden": true
   },
   "source": [
    "### Point\n",
    "\n",
    "First, let's start by creating a single point with an X and Y coordinate. Then, we can take a look at the varioud different methods and attributes of the point object."
   ]
  },
  {
   "cell_type": "code",
   "execution_count": 2,
   "metadata": {
    "hidden": true
   },
   "outputs": [
    {
     "data": {
      "text/plain": [
       "<Point (1.0, 1.0, #, #)>"
      ]
     },
     "execution_count": 2,
     "metadata": {},
     "output_type": "execute_result"
    }
   ],
   "source": [
    "# Creating a Point\n",
    "point_1 = arcpy.Point(1, 1)\n",
    "\n",
    "point_1"
   ]
  },
  {
   "cell_type": "code",
   "execution_count": 3,
   "metadata": {
    "hidden": true
   },
   "outputs": [
    {
     "data": {
      "text/plain": [
       "['clone',\n",
       " 'contains',\n",
       " 'crosses',\n",
       " 'disjoint',\n",
       " 'equals',\n",
       " 'overlaps',\n",
       " 'touches',\n",
       " 'within']"
      ]
     },
     "execution_count": 3,
     "metadata": {},
     "output_type": "execute_result"
    }
   ],
   "source": [
    "# Point Methods\n",
    "[method_name for method_name in dir(arcpy.Point) if callable(getattr(arcpy.Point, method_name)) and \"_\" not in method_name]"
   ]
  },
  {
   "cell_type": "code",
   "execution_count": 4,
   "metadata": {
    "hidden": true
   },
   "outputs": [
    {
     "data": {
      "text/plain": [
       "['ID', 'M', 'X', 'Y', 'Z']"
      ]
     },
     "execution_count": 4,
     "metadata": {},
     "output_type": "execute_result"
    }
   ],
   "source": [
    "# Point Attributes\n",
    "[attr_name for attr_name in dir(arcpy.Point) if not callable(getattr(arcpy.Point, attr_name)) and \"_\" not in attr_name]"
   ]
  },
  {
   "cell_type": "markdown",
   "metadata": {
    "hidden": true
   },
   "source": [
    "### PointGeometry\n",
    "\n",
    "With `arcpy.Point` there is no coordinate system associated with the Point object, and we typically only use it to construct other types of primitives.\n",
    "\n",
    "If we actually want to use a point as the primitive itself, then we can convert the Point object to a PointGeometry object. All we need to do is pass in the Point object along with the spatial reference we are using and then we have a PointGeometry ready to be used.\n",
    "\n",
    "You'll also notice that there are far more methods and attributes that can be utilized with PointGeometry objects compared to Point objects, in ArcPy."
   ]
  },
  {
   "cell_type": "code",
   "execution_count": 5,
   "metadata": {
    "hidden": true
   },
   "outputs": [
    {
     "data": {
      "image/svg+xml": [
       "<svg xmlns=\"http://www.w3.org/2000/svg\" xmlns:xlink=\"http://www.w3.org/1999/xlink\" width=\"100.0\" height=\"100.0\" viewBox=\"0.0 0.0 2.0 2.0\" preserveAspectRatio=\"xMinYMin meet\"><g transform=\"matrix(1,0,0,-1,0,2.0)\"><circle cx=\"1.0\" cy=\"1.0\" r=\"0.06\" stroke=\"#555555\" stroke-width=\"0.02\" fill=\"#66cc99\" opacity=\"0.6\" /></g></svg>"
      ],
      "text/plain": [
       "<PointGeometry object at 0x7f513b45e4f0[0x7f513b45eb10]>"
      ]
     },
     "execution_count": 5,
     "metadata": {},
     "output_type": "execute_result"
    }
   ],
   "source": [
    "# Creating a PointGeometry from Point\n",
    "point_geometry_1 = arcpy.PointGeometry(point_1, 4326)\n",
    "\n",
    "point_geometry_1"
   ]
  },
  {
   "cell_type": "code",
   "execution_count": 6,
   "metadata": {
    "hidden": true
   },
   "outputs": [
    {
     "data": {
      "text/plain": [
       "['angleAndDistanceTo',\n",
       " 'boundary',\n",
       " 'buffer',\n",
       " 'clip',\n",
       " 'contains',\n",
       " 'convexHull',\n",
       " 'crosses',\n",
       " 'cut',\n",
       " 'densify',\n",
       " 'difference',\n",
       " 'disjoint',\n",
       " 'distanceTo',\n",
       " 'equals',\n",
       " 'generalize',\n",
       " 'getArea',\n",
       " 'getGeohash',\n",
       " 'getLength',\n",
       " 'getPart',\n",
       " 'intersect',\n",
       " 'measureOnLine',\n",
       " 'overlaps',\n",
       " 'pointFromAngleAndDistance',\n",
       " 'positionAlongLine',\n",
       " 'projectAs',\n",
       " 'queryPointAndDistance',\n",
       " 'segmentAlongLine',\n",
       " 'snapToLine',\n",
       " 'symmetricDifference',\n",
       " 'toCoordString',\n",
       " 'touches',\n",
       " 'union',\n",
       " 'within']"
      ]
     },
     "execution_count": 6,
     "metadata": {},
     "output_type": "execute_result"
    }
   ],
   "source": [
    "# PointGeometry Methods\n",
    "[method_name for method_name in dir(arcpy.PointGeometry) if callable(getattr(arcpy.PointGeometry, method_name)) and \"_\" not in method_name]"
   ]
  },
  {
   "cell_type": "code",
   "execution_count": 7,
   "metadata": {
    "hidden": true
   },
   "outputs": [
    {
     "data": {
      "text/plain": [
       "['JSON',\n",
       " 'WKB',\n",
       " 'WKT',\n",
       " 'area',\n",
       " 'centroid',\n",
       " 'extent',\n",
       " 'firstPoint',\n",
       " 'hasCurves',\n",
       " 'hullRectangle',\n",
       " 'isMultipart',\n",
       " 'labelPoint',\n",
       " 'lastPoint',\n",
       " 'length',\n",
       " 'length3D',\n",
       " 'partCount',\n",
       " 'pointCount',\n",
       " 'spatialReference',\n",
       " 'trueCentroid',\n",
       " 'type']"
      ]
     },
     "execution_count": 7,
     "metadata": {},
     "output_type": "execute_result"
    }
   ],
   "source": [
    "# PointGeometry Attributes\n",
    "[attr_name for attr_name in dir(arcpy.PointGeometry) if not callable(getattr(arcpy.PointGeometry, attr_name)) and \"_\" not in attr_name]"
   ]
  },
  {
   "cell_type": "markdown",
   "metadata": {
    "hidden": true
   },
   "source": [
    "### Array\n",
    "\n",
    "Now, what if we want to create a Polygon, Polyline, or MultiPoint object? First we need to create a collection of `arcpy.Point` objects in what is referred to as an `arcpy.Array`.\n",
    "\n",
    "To do this, we can simply create a Python list of multiple points and then feed that into the array.\n",
    "\n",
    "It is also worth noting that **order is important**! Think of each point as a node, where they will be sequentially connected to one another based on the order."
   ]
  },
  {
   "cell_type": "code",
   "execution_count": 8,
   "metadata": {
    "hidden": true
   },
   "outputs": [
    {
     "data": {
      "text/plain": [
       "<Array [<Point (-1.0, 0.0, #, #)>, <Point (0.0, 1.0, #, #)>, <Point (1.0, 0.0, #, #)>, <Point (0.0, -1.0, #, #)>]>"
      ]
     },
     "execution_count": 8,
     "metadata": {},
     "output_type": "execute_result"
    }
   ],
   "source": [
    "# Creating an Array from a list of Point objects\n",
    "list_of_points = [arcpy.Point(-1, 0), arcpy.Point(0, 1), arcpy.Point(1, 0), arcpy.Point(0, -1)]\n",
    "\n",
    "array_1 = arcpy.Array(list_of_points)\n",
    "\n",
    "array_1"
   ]
  },
  {
   "cell_type": "code",
   "execution_count": 9,
   "metadata": {
    "hidden": true
   },
   "outputs": [
    {
     "data": {
      "text/plain": [
       "['add',\n",
       " 'append',\n",
       " 'clone',\n",
       " 'extend',\n",
       " 'getObject',\n",
       " 'insert',\n",
       " 'next',\n",
       " 'remove',\n",
       " 'removeAll',\n",
       " 'replace',\n",
       " 'reset']"
      ]
     },
     "execution_count": 9,
     "metadata": {},
     "output_type": "execute_result"
    }
   ],
   "source": [
    "# Array Methods\n",
    "[method_name for method_name in dir(arcpy.Array) if callable(getattr(arcpy.Array, method_name)) and \"_\" not in method_name]"
   ]
  },
  {
   "cell_type": "code",
   "execution_count": 10,
   "metadata": {
    "hidden": true
   },
   "outputs": [
    {
     "data": {
      "text/plain": [
       "['count']"
      ]
     },
     "execution_count": 10,
     "metadata": {},
     "output_type": "execute_result"
    }
   ],
   "source": [
    "# Array Attributes\n",
    "[attr_name for attr_name in dir(arcpy.Array) if not callable(getattr(arcpy.Array, attr_name)) and \"_\" not in attr_name]"
   ]
  },
  {
   "cell_type": "markdown",
   "metadata": {
    "hidden": true
   },
   "source": [
    "### MultiPoint\n",
    "\n",
    "With an array of points in hand, we can now start to create some of the other primitives like Polylines, Polygons, and MultiPoints.\n",
    "\n",
    "First, let's create a MultiPoint object by simply passing in the array, along with a spatial reference."
   ]
  },
  {
   "cell_type": "code",
   "execution_count": 11,
   "metadata": {
    "hidden": true
   },
   "outputs": [
    {
     "data": {
      "image/svg+xml": [
       "<svg xmlns=\"http://www.w3.org/2000/svg\" xmlns:xlink=\"http://www.w3.org/1999/xlink\" width=\"100.0\" height=\"100.0\" viewBox=\"-1.08 -1.08 2.16 2.16\" preserveAspectRatio=\"xMinYMin meet\"><g transform=\"matrix(1,0,0,-1,0,0.0)\"><g><circle cx=\"-1\" cy=\"0\" r=\"0.0648\" stroke=\"#555555\" stroke-width=\"0.0216\" fill=\"#66cc99\" opacity=\"0.6\" /><circle cx=\"0\" cy=\"1\" r=\"0.0648\" stroke=\"#555555\" stroke-width=\"0.0216\" fill=\"#66cc99\" opacity=\"0.6\" /><circle cx=\"1\" cy=\"0\" r=\"0.0648\" stroke=\"#555555\" stroke-width=\"0.0216\" fill=\"#66cc99\" opacity=\"0.6\" /><circle cx=\"0\" cy=\"-1\" r=\"0.0648\" stroke=\"#555555\" stroke-width=\"0.0216\" fill=\"#66cc99\" opacity=\"0.6\" /></g></g></svg>"
      ],
      "text/plain": [
       "<Multipoint object at 0x7f513b1d6c40[0x7f513b1d6660]>"
      ]
     },
     "execution_count": 11,
     "metadata": {},
     "output_type": "execute_result"
    }
   ],
   "source": [
    "# Creating a MultiPoint from an Array\n",
    "multipoint_1 = arcpy.Multipoint(array_1, 4326)\n",
    "\n",
    "multipoint_1"
   ]
  },
  {
   "cell_type": "code",
   "execution_count": 12,
   "metadata": {
    "hidden": true
   },
   "outputs": [
    {
     "data": {
      "text/plain": [
       "['angleAndDistanceTo',\n",
       " 'boundary',\n",
       " 'buffer',\n",
       " 'clip',\n",
       " 'contains',\n",
       " 'convexHull',\n",
       " 'crosses',\n",
       " 'cut',\n",
       " 'densify',\n",
       " 'difference',\n",
       " 'disjoint',\n",
       " 'distanceTo',\n",
       " 'equals',\n",
       " 'generalize',\n",
       " 'getArea',\n",
       " 'getGeohash',\n",
       " 'getLength',\n",
       " 'getPart',\n",
       " 'intersect',\n",
       " 'measureOnLine',\n",
       " 'overlaps',\n",
       " 'pointFromAngleAndDistance',\n",
       " 'positionAlongLine',\n",
       " 'projectAs',\n",
       " 'queryPointAndDistance',\n",
       " 'segmentAlongLine',\n",
       " 'snapToLine',\n",
       " 'symmetricDifference',\n",
       " 'touches',\n",
       " 'union',\n",
       " 'within']"
      ]
     },
     "execution_count": 12,
     "metadata": {},
     "output_type": "execute_result"
    }
   ],
   "source": [
    "# Array Methods\n",
    "[method_name for method_name in dir(arcpy.Multipoint) if callable(getattr(arcpy.Multipoint, method_name)) and \"_\" not in method_name]"
   ]
  },
  {
   "cell_type": "code",
   "execution_count": 13,
   "metadata": {
    "hidden": true
   },
   "outputs": [
    {
     "data": {
      "text/plain": [
       "['JSON',\n",
       " 'WKB',\n",
       " 'WKT',\n",
       " 'area',\n",
       " 'centroid',\n",
       " 'extent',\n",
       " 'firstPoint',\n",
       " 'hasCurves',\n",
       " 'hullRectangle',\n",
       " 'isMultipart',\n",
       " 'labelPoint',\n",
       " 'lastPoint',\n",
       " 'length',\n",
       " 'length3D',\n",
       " 'partCount',\n",
       " 'pointCount',\n",
       " 'spatialReference',\n",
       " 'trueCentroid',\n",
       " 'type']"
      ]
     },
     "execution_count": 13,
     "metadata": {},
     "output_type": "execute_result"
    }
   ],
   "source": [
    "# Array Attributes\n",
    "[attr_name for attr_name in dir(arcpy.Multipoint) if not callable(getattr(arcpy.Multipoint, attr_name)) and \"_\" not in attr_name]"
   ]
  },
  {
   "cell_type": "markdown",
   "metadata": {
    "hidden": true
   },
   "source": [
    "### Polyline\n",
    "\n",
    "Next, we can use the same process to create a Polyline object, by passing in the array and a spatial reference."
   ]
  },
  {
   "cell_type": "code",
   "execution_count": 14,
   "metadata": {
    "hidden": true
   },
   "outputs": [
    {
     "data": {
      "image/svg+xml": [
       "<svg xmlns=\"http://www.w3.org/2000/svg\" xmlns:xlink=\"http://www.w3.org/1999/xlink\" width=\"100.0\" height=\"100.0\" viewBox=\"-1.08 -1.08 2.16 2.16\" preserveAspectRatio=\"xMinYMin meet\"><g transform=\"matrix(1,0,0,-1,0,0.0)\"><g><polyline fill=\"none\" stroke=\"#66cc99\" stroke-width=\"0.0432\" points=\"-1,0 0,1 1,0 0,-1\" opacity=\"0.8\" /></g></g></svg>"
      ],
      "text/plain": [
       "<Polyline object at 0x7f513b1d6490[0x7f513b1d61e0]>"
      ]
     },
     "execution_count": 14,
     "metadata": {},
     "output_type": "execute_result"
    }
   ],
   "source": [
    "# Creating a Polyline from an Array\n",
    "polyline_1 = arcpy.Polyline(array_1, 4326)\n",
    "\n",
    "polyline_1"
   ]
  },
  {
   "cell_type": "code",
   "execution_count": 15,
   "metadata": {
    "hidden": true
   },
   "outputs": [
    {
     "data": {
      "text/plain": [
       "['angleAndDistanceTo',\n",
       " 'boundary',\n",
       " 'buffer',\n",
       " 'clip',\n",
       " 'contains',\n",
       " 'convexHull',\n",
       " 'crosses',\n",
       " 'cut',\n",
       " 'densify',\n",
       " 'difference',\n",
       " 'disjoint',\n",
       " 'distanceTo',\n",
       " 'equals',\n",
       " 'generalize',\n",
       " 'getArea',\n",
       " 'getGeohash',\n",
       " 'getLength',\n",
       " 'getPart',\n",
       " 'intersect',\n",
       " 'measureOnLine',\n",
       " 'overlaps',\n",
       " 'pointFromAngleAndDistance',\n",
       " 'positionAlongLine',\n",
       " 'projectAs',\n",
       " 'queryPointAndDistance',\n",
       " 'segmentAlongLine',\n",
       " 'snapToLine',\n",
       " 'symmetricDifference',\n",
       " 'touches',\n",
       " 'union',\n",
       " 'within']"
      ]
     },
     "execution_count": 15,
     "metadata": {},
     "output_type": "execute_result"
    }
   ],
   "source": [
    "# Array Methods\n",
    "[method_name for method_name in dir(arcpy.Polyline) if callable(getattr(arcpy.Polyline, method_name)) and \"_\" not in method_name]"
   ]
  },
  {
   "cell_type": "code",
   "execution_count": 16,
   "metadata": {
    "hidden": true
   },
   "outputs": [
    {
     "data": {
      "text/plain": [
       "['JSON',\n",
       " 'WKB',\n",
       " 'WKT',\n",
       " 'area',\n",
       " 'centroid',\n",
       " 'extent',\n",
       " 'firstPoint',\n",
       " 'hasCurves',\n",
       " 'hullRectangle',\n",
       " 'isMultipart',\n",
       " 'labelPoint',\n",
       " 'lastPoint',\n",
       " 'length',\n",
       " 'length3D',\n",
       " 'partCount',\n",
       " 'pointCount',\n",
       " 'spatialReference',\n",
       " 'trueCentroid',\n",
       " 'type']"
      ]
     },
     "execution_count": 16,
     "metadata": {},
     "output_type": "execute_result"
    }
   ],
   "source": [
    "# Array Attributes\n",
    "[attr_name for attr_name in dir(arcpy.Polyline) if not callable(getattr(arcpy.Polyline, attr_name)) and \"_\" not in attr_name]"
   ]
  },
  {
   "cell_type": "markdown",
   "metadata": {
    "hidden": true
   },
   "source": [
    "### Polygon\n",
    "\n",
    "Lastly, we can repeat the process for creating a Polygon."
   ]
  },
  {
   "cell_type": "code",
   "execution_count": 17,
   "metadata": {
    "hidden": true
   },
   "outputs": [
    {
     "data": {
      "image/svg+xml": [
       "<svg xmlns=\"http://www.w3.org/2000/svg\" xmlns:xlink=\"http://www.w3.org/1999/xlink\" width=\"100.0\" height=\"100.0\" viewBox=\"-1.0800048828125 -1.0800048828125 2.1601318359375 2.1601318359375\" preserveAspectRatio=\"xMinYMin meet\"><g transform=\"matrix(1,0,0,-1,0,0.0001220703125)\"><path fill-rule=\"evenodd\" fill=\"#66cc99\" stroke=\"#555555\" stroke-width=\"0.04320263671875\" opacity=\"0.6\" d=\" M -1,0 L 0,1.0001220703125 L 1.0001220703125,0 L 0,-1 L -1,0 z\" /></g></svg>"
      ],
      "text/plain": [
       "<Polygon object at 0x7f513b1ea160[0x7f513b1ea0c0]>"
      ]
     },
     "execution_count": 17,
     "metadata": {},
     "output_type": "execute_result"
    }
   ],
   "source": [
    "# Creating a Polygon from an Array\n",
    "polygon_1 = arcpy.Polygon(array_1, 4326)\n",
    "\n",
    "polygon_1"
   ]
  },
  {
   "cell_type": "code",
   "execution_count": 18,
   "metadata": {
    "hidden": true
   },
   "outputs": [
    {
     "data": {
      "text/plain": [
       "['angleAndDistanceTo',\n",
       " 'boundary',\n",
       " 'buffer',\n",
       " 'clip',\n",
       " 'contains',\n",
       " 'convexHull',\n",
       " 'crosses',\n",
       " 'cut',\n",
       " 'densify',\n",
       " 'difference',\n",
       " 'disjoint',\n",
       " 'distanceTo',\n",
       " 'equals',\n",
       " 'generalize',\n",
       " 'getArea',\n",
       " 'getGeohash',\n",
       " 'getLength',\n",
       " 'getPart',\n",
       " 'intersect',\n",
       " 'measureOnLine',\n",
       " 'overlaps',\n",
       " 'pointFromAngleAndDistance',\n",
       " 'positionAlongLine',\n",
       " 'projectAs',\n",
       " 'queryPointAndDistance',\n",
       " 'segmentAlongLine',\n",
       " 'snapToLine',\n",
       " 'symmetricDifference',\n",
       " 'touches',\n",
       " 'union',\n",
       " 'within']"
      ]
     },
     "execution_count": 18,
     "metadata": {},
     "output_type": "execute_result"
    }
   ],
   "source": [
    "# Array Methods\n",
    "[method_name for method_name in dir(arcpy.Polygon) if callable(getattr(arcpy.Polygon, method_name)) and \"_\" not in method_name]"
   ]
  },
  {
   "cell_type": "code",
   "execution_count": 19,
   "metadata": {
    "hidden": true
   },
   "outputs": [
    {
     "data": {
      "text/plain": [
       "['JSON',\n",
       " 'WKB',\n",
       " 'WKT',\n",
       " 'area',\n",
       " 'centroid',\n",
       " 'extent',\n",
       " 'firstPoint',\n",
       " 'hasCurves',\n",
       " 'hullRectangle',\n",
       " 'isMultipart',\n",
       " 'labelPoint',\n",
       " 'lastPoint',\n",
       " 'length',\n",
       " 'length3D',\n",
       " 'partCount',\n",
       " 'pointCount',\n",
       " 'spatialReference',\n",
       " 'trueCentroid',\n",
       " 'type']"
      ]
     },
     "execution_count": 19,
     "metadata": {},
     "output_type": "execute_result"
    }
   ],
   "source": [
    "# Array Attributes\n",
    "[attr_name for attr_name in dir(arcpy.Polygon) if not callable(getattr(arcpy.Polygon, attr_name)) and \"_\" not in attr_name]"
   ]
  },
  {
   "cell_type": "markdown",
   "metadata": {},
   "source": [
    "## Creating Mock Data with ArcPy\n",
    "\n",
    "With a firm grasp of how primitives work in ArcPy, it then becomes easier to generate mock data, by making use of the primitives alongside the same random data generation tools used in other notebooks.\n",
    "\n",
    "First, let's use ArcPy to create a File Geodatabase along with some Feature Classes to generate some data for."
   ]
  },
  {
   "cell_type": "markdown",
   "metadata": {},
   "source": [
    "### Preparation\n",
    "\n",
    "Nearly anything that can be done in ArcGIS Pro can also be done in Python, through the use of ArcPy. This is especially useful for automating tasks like working with Geodatabases and Feature Classes.\n",
    "\n",
    "First, we will create a File Geodatabase in our current directory (this is often denoted using the shorthand notation of `.` rather than writing out the entire absolute path).\n",
    "\n",
    "After that, we will create two Feature Classes in the geodatabase; one for storing some points and another for storing some lines."
   ]
  },
  {
   "cell_type": "code",
   "execution_count": 20,
   "metadata": {},
   "outputs": [],
   "source": [
    "# Create new File Geodatabase\n",
    "arcpy.management.CreateFileGDB(\".\", \"example_gdb\")"
   ]
  },
  {
   "cell_type": "code",
   "execution_count": 21,
   "metadata": {},
   "outputs": [],
   "source": [
    "# Create empty Feature Classes\n",
    "arcpy.management.CreateFeatureclass(\n",
    "    \"./example_gdb.gdb\",\n",
    "    \"example_points\",\n",
    "    geometry_type=\"POINT\",\n",
    "    spatial_reference=arcpy.SpatialReference(4326)\n",
    ")\n",
    "\n",
    "arcpy.management.CreateFeatureclass(\n",
    "    \"./example_gdb.gdb\",\n",
    "    \"example_line\",\n",
    "    geometry_type=\"POLYLINE\",\n",
    "    spatial_reference=arcpy.SpatialReference(4326)\n",
    ")"
   ]
  },
  {
   "cell_type": "markdown",
   "metadata": {},
   "source": [
    "### Points\n",
    "\n",
    "With Feature Classes created, we can now generate some mock points to put into them.\n",
    "\n",
    "We will create a list of 25 X coordinates and a list of 25 Y coordinates by using a uniform distribution to create some variation around the point `-94, 45`. Meaning that all of our points will be within 1 degree of that location.\n",
    "\n",
    "After the lists are generated, the `zip` and `list` functions can be used to combine the two lists into a single list of tuples containing the coordinates for 25 different points.\n",
    "\n",
    "We can then use an `arcpy.da.InsertCursor` to insert individual features/rows into the Feature Class and an `arcpy.da.SearchCursor` to iterate through the features and print out the content of the Feature Class."
   ]
  },
  {
   "cell_type": "code",
   "execution_count": 22,
   "metadata": {},
   "outputs": [
    {
     "data": {
      "text/plain": [
       "[(-93.26488055418498, 45.8111263704319),\n",
       " (-94.497125704115, 45.2393372061804),\n",
       " (-94.27017498319738, 44.47693685124445),\n",
       " (-94.0532395497925, 44.45297870789413),\n",
       " (-94.40977714617784, 45.344696112548036),\n",
       " (-93.53694432586946, 44.7314032647624),\n",
       " (-93.15958540906317, 44.16072980237841),\n",
       " (-94.78846205352454, 45.76892934126494),\n",
       " (-93.28086066580292, 44.37260296448455),\n",
       " (-93.05154639113691, 45.03901770577855),\n",
       " (-93.28518598652103, 44.110116615771105),\n",
       " (-94.001871438747, 45.180242339694885),\n",
       " (-94.47092373149499, 44.67372340352443),\n",
       " (-93.65458904339684, 44.879556297021026),\n",
       " (-94.6320811473581, 45.516692259319974),\n",
       " (-93.48348112962427, 44.61437597280168),\n",
       " (-93.6673520927718, 44.35410693872357),\n",
       " (-93.01628496436633, 45.29930581955008),\n",
       " (-93.91466882611148, 44.986984672441494),\n",
       " (-93.50234153700305, 44.5151079275781),\n",
       " (-93.32397624162319, 45.24790049186987),\n",
       " (-94.28506321869123, 44.79713020423166),\n",
       " (-93.3510291487098, 45.778439044057585),\n",
       " (-94.65869371490415, 44.55601556958557),\n",
       " (-94.59307031112017, 44.86846296618769)]"
      ]
     },
     "execution_count": 22,
     "metadata": {},
     "output_type": "execute_result"
    }
   ],
   "source": [
    "# Create sample X & Y coordinates - within 1 degree of -94, 45\n",
    "x = [-94 + np.random.uniform(-1, 1) for i in range(25)]\n",
    "y = [45 + np.random.uniform(-1, 1) for i in range(25)]\n",
    "\n",
    "records = list(zip(x, y))\n",
    "\n",
    "records"
   ]
  },
  {
   "cell_type": "code",
   "execution_count": 23,
   "metadata": {},
   "outputs": [],
   "source": [
    "# Insert records into Feature Class\n",
    "with arcpy.da.InsertCursor('./example_gdb.gdb/example_points', ['SHAPE@XY']) as cursor:\n",
    "    for row in records:\n",
    "        cursor.insertRow([row])"
   ]
  },
  {
   "cell_type": "code",
   "execution_count": 24,
   "metadata": {},
   "outputs": [
    {
     "name": "stdout",
     "output_type": "stream",
     "text": [
      "(1, (-93.80550847299997, 44.923009110000066))\n",
      "(2, (-93.90456717699999, 44.70955059100004))\n",
      "(3, (-94.04131820399994, 44.26883352100003))\n",
      "(4, (-93.18592256399995, 44.36081028500007))\n",
      "(5, (-93.32922528699999, 44.670228415000054))\n",
      "(6, (-94.47033864799994, 44.09176126800003))\n",
      "(7, (-93.35315741199997, 44.61659804200008))\n",
      "(8, (-94.74614874499997, 44.48878614900008))\n",
      "(9, (-93.98701453699994, 44.40386145000008))\n",
      "(10, (-94.72445839999995, 45.846394633000045))\n",
      "(11, (-93.58336674599997, 44.69210787900005))\n",
      "(12, (-94.21788475599999, 45.648698058000036))\n",
      "(13, (-93.16208422199998, 44.056188304000045))\n",
      "(14, (-93.09122993499994, 44.007287302000066))\n",
      "(15, (-93.53328968699998, 44.51225741600007))\n",
      "(16, (-94.06847884999996, 45.28995802000003))\n",
      "(17, (-93.72234409199996, 45.02074698000007))\n",
      "(18, (-94.93293549899994, 45.71283539700005))\n",
      "(19, (-93.40112326599996, 45.072848786000066))\n",
      "(20, (-93.84713366599999, 44.966627903000074))\n",
      "(21, (-93.62382930499996, 44.92648890000004))\n",
      "(22, (-94.85257995199999, 44.09869936300004))\n",
      "(23, (-94.51289993499995, 44.59184190500008))\n",
      "(24, (-94.08492029499996, 44.01150417800005))\n",
      "(25, (-94.86047932099996, 45.59620982200005))\n"
     ]
    }
   ],
   "source": [
    "# Use SearchCursor to check that Inserts succeeded\n",
    "with arcpy.da.SearchCursor('./example_gdb.gdb/example_points', ['*']) as cursor:\n",
    "    for row in cursor:\n",
    "        print(row)"
   ]
  },
  {
   "cell_type": "markdown",
   "metadata": {},
   "source": [
    "### Line\n",
    "\n",
    "This process can be repeated for lines, with the exception of how the lines are actually generated. The process used here can also be used for polygons and multipoints.\n",
    "\n",
    "First, we will make 5 total lines, each with somewhere between 3 and 7 vertices (the number of vertices is randomly chosen).\n",
    "\n",
    "We can then generate the the random X and Y values for all of the vertices and go through the conversion process of transforming a list of points into a polyline.\n",
    "\n",
    "Lastly, with a polyline created, we can then append that feature to a list and continue to generate the other lines, which will all be generated using that same process.\n",
    "\n",
    "Then, it's just a matter of using the Insert and Search Cursors to insert the data and verify the results of our operations."
   ]
  },
  {
   "cell_type": "code",
   "execution_count": 25,
   "metadata": {},
   "outputs": [],
   "source": [
    "# Create sample X & Y coordinates - within 0.25 degree of -94, 45\n",
    "list_of_lines = []\n",
    "\n",
    "number_lines = 5\n",
    "\n",
    "for i in range(number_lines):\n",
    "    # Determine number of points in feature\n",
    "    number_points = np.random.randint(3, 7)\n",
    "    \n",
    "    # Create coordinates for points\n",
    "    x = [-94 + np.random.uniform(-0.25, 0.25) for i in range(number_points)]\n",
    "    y = [45 + np.random.uniform(-0.25, 0.25) for i in range(number_points)]\n",
    "    \n",
    "    # Compile coordinates to list of Points\n",
    "    vertices = [arcpy.Point(x[i], y[i]) for i in range(number_points)]\n",
    "\n",
    "    # Convert list of Points to Array\n",
    "    feature_array = arcpy.Array(vertices)\n",
    "    \n",
    "    # Convert Array Polyline and add to list of features\n",
    "    list_of_lines.append(arcpy.Polyline(feature_array, 4326))"
   ]
  },
  {
   "cell_type": "code",
   "execution_count": 26,
   "metadata": {},
   "outputs": [],
   "source": [
    "# Insert records into Feature Class\n",
    "with arcpy.da.InsertCursor('./example_gdb.gdb/example_line', ['SHAPE@']) as cursor:\n",
    "    for row in list_of_lines:\n",
    "        cursor.insertRow([row])"
   ]
  },
  {
   "cell_type": "code",
   "execution_count": 27,
   "metadata": {},
   "outputs": [
    {
     "name": "stdout",
     "output_type": "stream",
     "text": [
      "(1, (-93.9133023019439, 44.977086016447224), 0.21988343390110188)\n",
      "(2, (-94.05611185499374, 44.93637868609848), 0.5379637410083707)\n",
      "(3, (-94.00928791549924, 44.91526090252612), 0.5836279946472069)\n",
      "(4, (-94.05936706202978, 44.96314322658895), 1.524124864555194)\n",
      "(5, (-94.03084031495398, 45.181959761345894), 0.6370810798205422)\n"
     ]
    }
   ],
   "source": [
    "# Use SearchCursor to check that Inserts succeeded\n",
    "with arcpy.da.SearchCursor('./example_gdb.gdb/example_line', ['*']) as cursor:\n",
    "    for row in cursor:\n",
    "        print(row)"
   ]
  }
 ],
 "metadata": {
  "esriNotebookRuntime": {
   "notebookRuntimeName": "ArcGIS Notebook Python 3 Advanced",
   "notebookRuntimeVersion": "8.0"
  },
  "kernelspec": {
   "display_name": "Python 3 (ipykernel)",
   "language": "python",
   "name": "python3"
  },
  "language_info": {
   "codemirror_mode": {
    "name": "ipython",
    "version": 3
   },
   "file_extension": ".py",
   "mimetype": "text/x-python",
   "name": "python",
   "nbconvert_exporter": "python",
   "pygments_lexer": "ipython3",
   "version": "3.10.10"
  }
 },
 "nbformat": 4,
 "nbformat_minor": 2
}
